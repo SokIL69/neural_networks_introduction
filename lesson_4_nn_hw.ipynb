{
 "cells": [
  {
   "cell_type": "markdown",
   "metadata": {
    "id": "dde_Ul09bf2c"
   },
   "source": [
    "# Введение в искусственные нейронные сети"
   ]
  },
  {
   "cell_type": "markdown",
   "metadata": {
    "id": "IBBj_scsbf2j"
   },
   "source": [
    "# Урок 4. Сверточные нейронные сети"
   ]
  },
  {
   "cell_type": "markdown",
   "metadata": {
    "id": "PUkI-EWSbf2m"
   },
   "source": [
    "# <font color='blue'>Практическое задание</font>"
   ]
  },
  {
   "cell_type": "markdown",
   "metadata": {
    "id": "TgsyJnjybf2n"
   },
   "source": [
    "Вариант 1. (простой)\n",
    "\n",
    "- обучить сверточную нейронную сеть в стиле AlexNet (с падением размера ядра свертки и последовательностью блоков свертка-пулинг  (conv-pool)-(conv-pool)-...) на датасете fashion-mnist или cifar10\n",
    "- оценить рост точности при увеличении ширины сети (больше ядер)\n",
    "- оценить рост точности при увеличении глубины сети (больше слоев)\n",
    "- (опциционально)сравнить с точностью полносвязной сети для этой выборки\n",
    "    </li>\n",
    "\n",
    "Вариант 2. (сложный)\n",
    "- реализовать нейронную сеть или стек из сверток (Concatenate) на сifar10.\n",
    "- оценить рост точности при увеличении ширины сети (больше ядер), больше нитей.\n",
    "- оценить рост точности при увеличении глубины сети (больше слоев)\n",
    "    </li>\n",
    "</ol>"
   ]
  },
  {
   "cell_type": "markdown",
   "metadata": {
    "id": "8hX_qGcnbrJS"
   },
   "source": [
    "Выполнил __Соковнин И.Л.__"
   ]
  },
  {
   "cell_type": "markdown",
   "metadata": {
    "id": "ljxOFO04mqbC"
   },
   "source": [
    "# Сеть AlexNet "
   ]
  },
  {
   "cell_type": "code",
   "execution_count": 1,
   "metadata": {
    "id": "IrvuzxL9CpOn"
   },
   "outputs": [],
   "source": [
    "# import cv2  # OpenCV"
   ]
  },
  {
   "cell_type": "code",
   "execution_count": 2,
   "metadata": {
    "id": "jVlE5weZatMB"
   },
   "outputs": [],
   "source": [
    "# from tensorflow.keras.utils import plot_model "
   ]
  },
  {
   "cell_type": "code",
   "execution_count": 3,
   "metadata": {
    "id": "J7fg7HyTmyZ4"
   },
   "outputs": [],
   "source": [
    "from __future__ import print_function\n",
    "\n",
    "import numpy as np\n",
    "import pandas as pd\n",
    "import matplotlib.pyplot as plt\n",
    "\n",
    "import tensorflow as tf\n",
    "import tensorflow.keras as keras # расскоментируйте эту строку, чтобы начать обучение\n",
    "\n",
    "\n",
    "from tensorflow.keras.preprocessing.image import ImageDataGenerator\n",
    "\n",
    "from tensorflow.keras.models import Sequential, Model\n",
    "\n",
    "from tensorflow.keras.layers import Dense, Dropout, Activation, Flatten, BatchNormalization\n",
    "from tensorflow.keras.layers import Conv2D, Input  # Convolution (сверточный) слой\n",
    "from tensorflow.keras.layers import GlobalMaxPooling2D, MaxPooling2D, AveragePooling2D, GlobalAveragePooling2D, BatchNormalization  \n",
    "# Pooling слои\n",
    "\n",
    "import os"
   ]
  },
  {
   "cell_type": "code",
   "execution_count": 4,
   "metadata": {
    "id": "74g8AMbhDEfv"
   },
   "outputs": [],
   "source": [
    "# from tensorflow.keras.datasets import fashion_mnist\n",
    "# from tensorflow.keras.utils import to_categorical"
   ]
  },
  {
   "cell_type": "code",
   "execution_count": 5,
   "metadata": {
    "id": "Txngm1ppH_Vv"
   },
   "outputs": [],
   "source": [
    "# class_names = ['T-shirt/top', 'Trouser', 'Pullover', 'Dress', 'Coat', 'Sandal', 'Shirt', 'Sneaker', 'Bag', 'Ankle boot']\n",
    "# class_names = ['Футболка/топ', 'Брюки', 'Свитер', 'Платье', 'Плащь', 'Сандали', 'Рубашка', 'Кросовки', 'Сумки', 'Ботинки']"
   ]
  },
  {
   "cell_type": "code",
   "execution_count": 6,
   "metadata": {
    "id": "KUBGMp79HxYS"
   },
   "outputs": [],
   "source": [
    "# Цветной датасет 10 классов, картинки 32x32 с цветными изображениями\n",
    "# Есть cifar100 - 100 классов\n",
    "from tensorflow.keras.datasets import cifar10"
   ]
  },
  {
   "cell_type": "code",
   "execution_count": 7,
   "metadata": {
    "id": "1PH_oMUGDwup"
   },
   "outputs": [],
   "source": [
    "# установка параметров нейросети\n",
    "batch_size = 32\n",
    "num_classes = 10\n",
    "epochs = 10\n",
    "data_augmentation = False\n",
    "num_predictions = 20\n",
    "model_name = 'keras_cifar10_trained_model.h5'"
   ]
  },
  {
   "cell_type": "code",
   "execution_count": 8,
   "metadata": {
    "id": "edItmplkLyR6"
   },
   "outputs": [],
   "source": [
    "# FeaturesDict({\n",
    "#     'id': Text(shape=(), dtype=tf.string),\n",
    "#     'image': Image(shape=(32, 32, 3), dtype=tf.uint8),\n",
    "#     'label': ClassLabel(shape=(), dtype=tf.int64, num_classes=10),\n",
    "# })"
   ]
  },
  {
   "cell_type": "code",
   "execution_count": 9,
   "metadata": {
    "id": "AwiknCOym1IW"
   },
   "outputs": [],
   "source": [
    "# Название классов из набора cifar10\n",
    "classes=['самолет', 'автомобиль', 'птица', 'кот', 'олень', 'собака', 'лягушка', 'лошадь', 'корабль', 'грузовик']"
   ]
  },
  {
   "cell_type": "code",
   "execution_count": 10,
   "metadata": {
    "colab": {
     "base_uri": "https://localhost:8080/"
    },
    "id": "jl46k25BIbjK",
    "outputId": "d2c36c54-abed-4303-d795-070bca3ecf95"
   },
   "outputs": [
    {
     "name": "stdout",
     "output_type": "stream",
     "text": [
      "Downloading data from https://www.cs.toronto.edu/~kriz/cifar-10-python.tar.gz\n",
      "170500096/170498071 [==============================] - 4s 0us/step\n",
      "170508288/170498071 [==============================] - 4s 0us/step\n",
      "x_train shape: (50000, 32, 32, 3)\n",
      "50000 тренировочные примеры\n",
      "10000 тестовые примеры\n"
     ]
    }
   ],
   "source": [
    "# разделение тренировочной и тестовой выборки\n",
    "(x_train, y_train), (x_test, y_test) = cifar10.load_data()\n",
    "print('x_train shape:', x_train.shape)\n",
    "print(x_train.shape[0], 'тренировочные примеры')\n",
    "print(x_test.shape[0], 'тестовые примеры')\n",
    "\n",
    "# преобразование матрицы чисел 0-9 в бинарную матрицу чисел 0-1\n",
    "y_train = keras.utils.to_categorical(y_train, num_classes)\n",
    "y_test = keras.utils.to_categorical(y_test, num_classes)\n",
    "\n",
    "\n",
    "x_train = x_train.astype('float32')\n",
    "x_test = x_test.astype('float32')\n",
    "x_train /= 255\n",
    "x_test /= 255"
   ]
  },
  {
   "cell_type": "code",
   "execution_count": 11,
   "metadata": {
    "colab": {
     "base_uri": "https://localhost:8080/"
    },
    "id": "iAxD2kb-RIZj",
    "outputId": "046b3aa2-589c-4b95-88d9-707960b08a5b"
   },
   "outputs": [
    {
     "data": {
      "text/plain": [
       "(6, 'лягушка', array([0., 0., 0., 0., 0., 0., 1., 0., 0., 0.], dtype=float32))"
      ]
     },
     "execution_count": 11,
     "metadata": {},
     "output_type": "execute_result"
    }
   ],
   "source": [
    "np.argmax(y_train[0]), classes[int(np.argmax(y_train[0]))], y_train[0]"
   ]
  },
  {
   "cell_type": "code",
   "execution_count": 12,
   "metadata": {
    "colab": {
     "base_uri": "https://localhost:8080/",
     "height": 864
    },
    "id": "TEmgENBYD1T2",
    "outputId": "d399e8f7-d5d8-4e04-ea93-d822690f2a15"
   },
   "outputs": [
    {
     "data": {
      "image/png": "[encoded data removed]",
      "text/plain": [
       "<Figure size 936x1080 with 25 Axes>"
      ]
     },
     "metadata": {
      "needs_background": "light"
     },
     "output_type": "display_data"
    }
   ],
   "source": [
    "# First 25 images in the train dataset\n",
    "plt.figure(figsize = (13, 15))\n",
    "for i in range(25):\n",
    "    image = x_train[i,:,:]\n",
    "    image = np.array(image)\n",
    "    plt.subplot(5, 5, i+1)\n",
    "    # plt.title(str(y_train[i]) + ' - ' + classes[int(y_train[i])])\n",
    "    plt.title(str(np.argmax(y_train[i])+1) + ' - ' + classes[np.argmax(y_train[i])])\n",
    "    plt.imshow(image)\n",
    "    # plt.axis('off')\n",
    "plt.show() "
   ]
  },
  {
   "cell_type": "code",
   "execution_count": 13,
   "metadata": {
    "colab": {
     "base_uri": "https://localhost:8080/",
     "height": 281
    },
    "id": "FKTOTsWlm5Xy",
    "outputId": "6a027566-0200-4563-8272-7b7635677ed7"
   },
   "outputs": [
    {
     "data": {
      "image/png": "[encoded data removed]",
      "text/plain": [
       "<Figure size 432x288 with 1 Axes>"
      ]
     },
     "metadata": {
      "needs_background": "light"
     },
     "output_type": "display_data"
    }
   ],
   "source": [
    "N = 9013\n",
    "# N = 913\n",
    "\n",
    "plt.imshow(x_test[N][:,:,:])\n",
    "plt.title('это : ' + classes[np.argmax(y_test[N,:])])\n",
    "plt.show()"
   ]
  },
  {
   "cell_type": "markdown",
   "metadata": {
    "id": "qjhKM8kmDCz7"
   },
   "source": [
    "# Сеть AlexNet \n",
    "\n",
    "\n",
    "1:56:00"
   ]
  },
  {
   "cell_type": "markdown",
   "metadata": {
    "id": "sxtSNXS0DH_C"
   },
   "source": [
    "![alexnet.jpg](alexnet.jpg)\n",
    "\n",
    "- Convolution - свертка\n",
    "- Subsampling - Подвыборка\n",
    "- Full connection - Полное подключение?\n",
    "- Gaussian connecttings - Гауссовы соединения?\n",
    "- Overlapping - перекрытие\n",
    "- dropout - выбывать\n",
    "- max-pooling"
   ]
  },
  {
   "cell_type": "code",
   "execution_count": 14,
   "metadata": {
    "id": "AUvFYMYlGBCf"
   },
   "outputs": [],
   "source": [
    "# установка параметров нейросети\n",
    "# batch_size = 1024\n",
    "batch_size = 32\n",
    "num_classes = 10\n",
    "epochs = 10\n",
    "data_augmentation = False\n",
    "num_predictions = 20\n",
    "model_name = 'keras_cifar10_trained_model.h5'"
   ]
  },
  {
   "cell_type": "markdown",
   "metadata": {
    "id": "QVub3kyyDTfS"
   },
   "source": [
    "###### Базовая модель ( по аналогии как из 4 лекции)"
   ]
  },
  {
   "cell_type": "markdown",
   "metadata": {
    "id": "CLsehiBr7mJW"
   },
   "source": [
    " # Базовая модель"
   ]
  },
  {
   "cell_type": "code",
   "execution_count": 18,
   "metadata": {
    "colab": {
     "base_uri": "https://localhost:8080/"
    },
    "id": "KTd_J6tfb_pv",
    "outputId": "4bd2c812-88fc-462e-9100-dc46b21cf2d8"
   },
   "outputs": [
    {
     "name": "stdout",
     "output_type": "stream",
     "text": [
      "Model: \"sequential\"\n",
      "_________________________________________________________________\n",
      " Layer (type)                Output Shape              Param #   \n",
      "=================================================================\n",
      " conv2d (Conv2D)             (None, 32, 32, 32)        11648     \n",
      "                                                                 \n",
      " batch_normalization (BatchN  (None, 32, 32, 32)       128       \n",
      " ormalization)                                                   \n",
      "                                                                 \n",
      " max_pooling2d (MaxPooling2D  (None, 15, 15, 32)       0         \n",
      " )                                                               \n",
      "                                                                 \n",
      " dropout (Dropout)           (None, 15, 15, 32)        0         \n",
      "                                                                 \n",
      " conv2d_1 (Conv2D)           (None, 8, 8, 32)          65568     \n",
      "                                                                 \n",
      " batch_normalization_1 (Batc  (None, 8, 8, 32)         128       \n",
      " hNormalization)                                                 \n",
      "                                                                 \n",
      " max_pooling2d_1 (MaxPooling  (None, 3, 3, 32)         0         \n",
      " 2D)                                                             \n",
      "                                                                 \n",
      " dropout_1 (Dropout)         (None, 3, 3, 32)          0         \n",
      "                                                                 \n",
      " conv2d_2 (Conv2D)           (None, 3, 3, 32)          25632     \n",
      "                                                                 \n",
      " batch_normalization_2 (Batc  (None, 3, 3, 32)         128       \n",
      " hNormalization)                                                 \n",
      "                                                                 \n",
      " max_pooling2d_2 (MaxPooling  (None, 1, 1, 32)         0         \n",
      " 2D)                                                             \n",
      "                                                                 \n",
      " dropout_2 (Dropout)         (None, 1, 1, 32)          0         \n",
      "                                                                 \n",
      " flatten (Flatten)           (None, 32)                0         \n",
      "                                                                 \n",
      " dense (Dense)               (None, 512)               16896     \n",
      "                                                                 \n",
      " dropout_3 (Dropout)         (None, 512)               0         \n",
      "                                                                 \n",
      " dense_1 (Dense)             (None, 10)                5130      \n",
      "                                                                 \n",
      "=================================================================\n",
      "Total params: 125,258\n",
      "Trainable params: 125,066\n",
      "Non-trainable params: 192\n",
      "_________________________________________________________________\n"
     ]
    }
   ],
   "source": [
    "# конфигурирование слоев нейросети\n",
    "model = Sequential([\n",
    "                    \n",
    "    # слои нейросети отвественные за свертку и max-pooling\n",
    "    Conv2D(filters=32,  # количество фильтров - эквивалентно кол-ву нейронов (ширина слоя)!!!\n",
    "        kernel_size=(11, 11),  # кортеж, размер ядра фильтра (размер фильтра по осям, апертура фильтра)\n",
    "        strides=(1, 1),   # шаг применения фильтра к пикселам (пропуск пикселов) - вместо пулинга\n",
    "        input_shape=x_train.shape[1:],\n",
    "        activation='relu',  # активация\n",
    "        padding='same'),\n",
    "    BatchNormalization(),\n",
    "    MaxPooling2D(pool_size=(3, 3), strides=(2, 2)),\n",
    "    Dropout( 0.25),\n",
    "\n",
    "    Conv2D(filters=32,  # количество фильтров - эквивалентно кол-ву нейронов (ширина слоя)!!!\n",
    "        kernel_size=(8, 8),  # кортеж размер ядра фильтра (размер фильтра по осям, апертура фильтра)\n",
    "        strides=(1, 1),   # шаг применения фильтра к пикселам (пропуск пикселов) - вместо пулинга\n",
    "        input_shape=x_train.shape[1:],\n",
    "        activation='relu'  # активация\n",
    "      ),\n",
    "    BatchNormalization(),\n",
    "    MaxPooling2D(pool_size=(3, 3), strides=(2, 2)),\n",
    "    Dropout( 0.25),\n",
    "    \n",
    "    Conv2D(filters=32, kernel_size=(5, 5), strides=(1,1), activation='relu', padding=\"same\"),\n",
    "    BatchNormalization(),\n",
    "    MaxPooling2D(pool_size=(3,3), strides=(2, 2)),\n",
    "    Dropout( 0.25),\n",
    "\n",
    "    # Conv2D(filters=32, kernel_size=(3, 3), strides=(1,1), activation='relu'),\n",
    "    # BatchNormalization(),\n",
    "    # MaxPooling2D(pool_size=(3,3), strides=(2, 2)),\n",
    "    # Dropout(0.25),\n",
    "    \n",
    "    # Из конволютивного слоя нельзя передать информацию в плотный слой без векторизации\n",
    "    # поэтому используем layers.Flatten() чтоб не делать reshape, сглаживание CNN выхода,\n",
    "    # чтобы можно было его присоединить к полносвязногому слою.\n",
    "\n",
    "    # полносвязные слои нейронной сети\n",
    "    Flatten(),\n",
    "    Dense(512, activation='relu'),\n",
    "    Dropout(0.5),\n",
    "    Dense(num_classes, activation='softmax'),\n",
    "])\n",
    "\n",
    "# инициализация RMSprop optimizer\n",
    "#opt = tensorflow.keras.optimizers.RMSprop(lr=0.0001, decay=1e-6)\n",
    "\n",
    "# компиляция модели\n",
    "model.compile(loss='categorical_crossentropy',\n",
    "              optimizer='SGD',\n",
    "              metrics=['accuracy'])\n",
    "\n",
    "model.summary()"
   ]
  },
  {
   "cell_type": "code",
   "execution_count": 19,
   "metadata": {
    "colab": {
     "base_uri": "https://localhost:8080/"
    },
    "id": "t-cT416dJoGj",
    "outputId": "7bd7d210-32fa-45a6-f735-0c22e8abcec6"
   },
   "outputs": [
    {
     "data": {
      "text/plain": [
       "(512, 10)"
      ]
     },
     "execution_count": 19,
     "metadata": {},
     "output_type": "execute_result"
    }
   ],
   "source": [
    "w_old = model.layers[-1].get_weights()\n",
    "# Ядро 3x3\n",
    "w_old[0].shape  # смотрим на одно ядро размер 3x3, 1 слой на входе, 1-но ядро на выходе\n",
    "# (3, 3, 1, 1)\n"
   ]
  },
  {
   "cell_type": "code",
   "execution_count": 20,
   "metadata": {
    "colab": {
     "base_uri": "https://localhost:8080/"
    },
    "id": "GHdkb9qqbf2p",
    "outputId": "68ec358d-4627-49ed-9700-192f0192d8fd"
   },
   "outputs": [
    {
     "name": "stdout",
     "output_type": "stream",
     "text": [
      "Не используется data augmentation\n",
      "Epoch 1/10\n",
      "1563/1563 [==============================] - 242s 154ms/step - loss: 1.9065 - accuracy: 0.2863 - val_loss: 2.5375 - val_accuracy: 0.2359\n",
      "Epoch 2/10\n",
      "1563/1563 [==============================] - 244s 156ms/step - loss: 1.6254 - accuracy: 0.4002 - val_loss: 1.4662 - val_accuracy: 0.4702\n",
      "Epoch 3/10\n",
      "1563/1563 [==============================] - 240s 154ms/step - loss: 1.5163 - accuracy: 0.4450 - val_loss: 2.0352 - val_accuracy: 0.2788\n",
      "Epoch 4/10\n",
      "1563/1563 [==============================] - 241s 154ms/step - loss: 1.4388 - accuracy: 0.4759 - val_loss: 1.3942 - val_accuracy: 0.4768\n",
      "Epoch 5/10\n",
      "1563/1563 [==============================] - 240s 154ms/step - loss: 1.3842 - accuracy: 0.4997 - val_loss: 1.5256 - val_accuracy: 0.4782\n",
      "Epoch 6/10\n",
      "1563/1563 [==============================] - 240s 154ms/step - loss: 1.3302 - accuracy: 0.5216 - val_loss: 1.2978 - val_accuracy: 0.5382\n",
      "Epoch 7/10\n",
      "1563/1563 [==============================] - 240s 153ms/step - loss: 1.2980 - accuracy: 0.5349 - val_loss: 1.3516 - val_accuracy: 0.5240\n",
      "Epoch 8/10\n",
      "1563/1563 [==============================] - 240s 153ms/step - loss: 1.2652 - accuracy: 0.5478 - val_loss: 1.2232 - val_accuracy: 0.5597\n",
      "Epoch 9/10\n",
      "1563/1563 [==============================] - 239s 153ms/step - loss: 1.2291 - accuracy: 0.5638 - val_loss: 1.7130 - val_accuracy: 0.4169\n",
      "Epoch 10/10\n",
      "1563/1563 [==============================] - 239s 153ms/step - loss: 1.2124 - accuracy: 0.5705 - val_loss: 1.2027 - val_accuracy: 0.5808\n"
     ]
    }
   ],
   "source": [
    "  summary_data = pd.DataFrame(columns=['layers', 'neurons', 'loss', 'accuracy', 'val_loss', 'val_accuracy'])\n",
    "\n",
    "  print('Не используется data augmentation')\n",
    "  hist = model.fit(x_train, y_train,\n",
    "            batch_size=batch_size,\n",
    "            epochs=epochs,\n",
    "            validation_data=(x_test, y_test),\n",
    "            shuffle=True)"
   ]
  },
  {
   "cell_type": "code",
   "execution_count": 20,
   "metadata": {
    "id": "hFWwU9gAMrIr"
   },
   "outputs": [],
   "source": []
  },
  {
   "cell_type": "code",
   "execution_count": 21,
   "metadata": {
    "colab": {
     "base_uri": "https://localhost:8080/",
     "height": 154
    },
    "id": "h0U-mAUSrqgt",
    "outputId": "6ef62395-28d8-4bc8-cee7-45bdc65936c3"
   },
   "outputs": [
    {
     "name": "stdout",
     "output_type": "stream",
     "text": [
      "1563/1563 [==============================] - 56s 36ms/step - loss: 1.1572 - accuracy: 0.5896\n",
      "313/313 [==============================] - 11s 36ms/step - loss: 1.2027 - accuracy: 0.5808\n",
      "Test loss: 1.202730417251587\n",
      "Test accuracy: 0.5807999968528748\n"
     ]
    },
    {
     "data": {
      "text/html": [
       "\n",
       "  <div id=\"df-4a702301-29fd-41bb-acaa-879f1a97d59e\">\n",
       "    <div class=\"colab-df-container\">\n",
       "      <div>\n",
       "<style scoped>\n",
       "    .dataframe tbody tr th:only-of-type {\n",
       "        vertical-align: middle;\n",
       "    }\n",
       "\n",
       "    .dataframe tbody tr th {\n",
       "        vertical-align: top;\n",
       "    }\n",
       "\n",
       "    .dataframe thead th {\n",
       "        text-align: right;\n",
       "    }\n",
       "</style>\n",
       "<table border=\"1\" class=\"dataframe\">\n",
       "  <thead>\n",
       "    <tr style=\"text-align: right;\">\n",
       "      <th></th>\n",
       "      <th>layers</th>\n",
       "      <th>neurons</th>\n",
       "      <th>loss</th>\n",
       "      <th>accuracy</th>\n",
       "      <th>val_loss</th>\n",
       "      <th>val_accuracy</th>\n",
       "    </tr>\n",
       "  </thead>\n",
       "  <tbody>\n",
       "    <tr>\n",
       "      <th>Базовая модель</th>\n",
       "      <td>3</td>\n",
       "      <td>32</td>\n",
       "      <td>1.15717</td>\n",
       "      <td>0.58962</td>\n",
       "      <td>1.20273</td>\n",
       "      <td>0.5808</td>\n",
       "    </tr>\n",
       "  </tbody>\n",
       "</table>\n",
       "</div>\n",
       "      <button class=\"colab-df-convert\" onclick=\"convertToInteractive('df-4a702301-29fd-41bb-acaa-879f1a97d59e')\"\n",
       "              title=\"Convert this dataframe to an interactive table.\"\n",
       "              style=\"display:none;\">\n",
       "        \n",
       "  <svg xmlns=\"http://www.w3.org/2000/svg\" height=\"24px\"viewBox=\"0 0 24 24\"\n",
       "       width=\"24px\">\n",
       "    <path d=\"M0 0h24v24H0V0z\" fill=\"none\"/>\n",
       "    <path d=\"M18.56 5.44l.94 2.06.94-2.06 2.06-.94-2.06-.94-.94-2.06-.94 2.06-2.06.94zm-11 1L8.5 8.5l.94-2.06 2.06-.94-2.06-.94L8.5 2.5l-.94 2.06-2.06.94zm10 10l.94 2.06.94-2.06 2.06-.94-2.06-.94-.94-2.06-.94 2.06-2.06.94z\"/><path d=\"M17.41 7.96l-1.37-1.37c-.4-.4-.92-.59-1.43-.59-.52 0-1.04.2-1.43.59L10.3 9.45l-7.72 7.72c-.78.78-.78 2.05 0 2.83L4 21.41c.39.39.9.59 1.41.59.51 0 1.02-.2 1.41-.59l7.78-7.78 2.81-2.81c.8-.78.8-2.07 0-2.86zM5.41 20L4 18.59l7.72-7.72 1.47 1.35L5.41 20z\"/>\n",
       "  </svg>\n",
       "      </button>\n",
       "      \n",
       "  <style>\n",
       "    .colab-df-container {\n",
       "      display:flex;\n",
       "      flex-wrap:wrap;\n",
       "      gap: 12px;\n",
       "    }\n",
       "\n",
       "    .colab-df-convert {\n",
       "      background-color: #E8F0FE;\n",
       "      border: none;\n",
       "      border-radius: 50%;\n",
       "      cursor: pointer;\n",
       "      display: none;\n",
       "      fill: #1967D2;\n",
       "      height: 32px;\n",
       "      padding: 0 0 0 0;\n",
       "      width: 32px;\n",
       "    }\n",
       "\n",
       "    .colab-df-convert:hover {\n",
       "      background-color: #E2EBFA;\n",
       "      box-shadow: 0px 1px 2px rgba(60, 64, 67, 0.3), 0px 1px 3px 1px rgba(60, 64, 67, 0.15);\n",
       "      fill: #174EA6;\n",
       "    }\n",
       "\n",
       "    [theme=dark] .colab-df-convert {\n",
       "      background-color: #3B4455;\n",
       "      fill: #D2E3FC;\n",
       "    }\n",
       "\n",
       "    [theme=dark] .colab-df-convert:hover {\n",
       "      background-color: #434B5C;\n",
       "      box-shadow: 0px 1px 3px 1px rgba(0, 0, 0, 0.15);\n",
       "      filter: drop-shadow(0px 1px 2px rgba(0, 0, 0, 0.3));\n",
       "      fill: #FFFFFF;\n",
       "    }\n",
       "  </style>\n",
       "\n",
       "      <script>\n",
       "        const buttonEl =\n",
       "          document.querySelector('#df-4a702301-29fd-41bb-acaa-879f1a97d59e button.colab-df-convert');\n",
       "        buttonEl.style.display =\n",
       "          google.colab.kernel.accessAllowed ? 'block' : 'none';\n",
       "\n",
       "        async function convertToInteractive(key) {\n",
       "          const element = document.querySelector('#df-4a702301-29fd-41bb-acaa-879f1a97d59e');\n",
       "          const dataTable =\n",
       "            await google.colab.kernel.invokeFunction('convertToInteractive',\n",
       "                                                     [key], {});\n",
       "          if (!dataTable) return;\n",
       "\n",
       "          const docLinkHtml = 'Like what you see? Visit the ' +\n",
       "            '<a target=\"_blank\" href=https://colab.research.google.com/notebooks/data_table.ipynb>data table notebook</a>'\n",
       "            + ' to learn more about interactive tables.';\n",
       "          element.innerHTML = '';\n",
       "          dataTable['output_type'] = 'display_data';\n",
       "          await google.colab.output.renderOutput(dataTable, element);\n",
       "          const docLink = document.createElement('div');\n",
       "          docLink.innerHTML = docLinkHtml;\n",
       "          element.appendChild(docLink);\n",
       "        }\n",
       "      </script>\n",
       "    </div>\n",
       "  </div>\n",
       "  "
      ],
      "text/plain": [
       "               layers neurons     loss accuracy val_loss val_accuracy\n",
       "Базовая модель      3      32  1.15717  0.58962  1.20273       0.5808"
      ]
     },
     "execution_count": 21,
     "metadata": {},
     "output_type": "execute_result"
    }
   ],
   "source": [
    "# model evaluation for training set\n",
    "loss_metric_train = model.evaluate(x_train, y_train)\n",
    "\n",
    "# проверка работы обученной модели\n",
    "loss_metric_test = model.evaluate(x_test, y_test, verbose=1)\n",
    "\n",
    "print('Test loss:', loss_metric_test[0])\n",
    "print('Test accuracy:', loss_metric_test[1])\n",
    "\n",
    "summary_data.loc[\"Базовая модель\", ['layers', 'neurons', 'loss', 'accuracy', 'val_loss', 'val_accuracy']] = [ 3,  32, loss_metric_train[0], loss_metric_train[1], loss_metric_test[0], loss_metric_test[1]]\n",
    "summary_data"
   ]
  },
  {
   "cell_type": "code",
   "execution_count": 21,
   "metadata": {
    "id": "RmpwTRMM7y7D"
   },
   "outputs": [],
   "source": []
  },
  {
   "cell_type": "code",
   "execution_count": 22,
   "metadata": {
    "colab": {
     "base_uri": "https://localhost:8080/",
     "height": 295
    },
    "id": "E8lGdz6wGr_5",
    "outputId": "8a8f72e8-f212-457b-c587-b3e19688eac1"
   },
   "outputs": [
    {
     "data": {
      "image/png": "[encoded data removed]",
      "text/plain": [
       "<Figure size 432x288 with 1 Axes>"
      ]
     },
     "metadata": {
      "needs_background": "light"
     },
     "output_type": "display_data"
    }
   ],
   "source": [
    "plt.plot(np.arange(epochs), hist.history['val_accuracy'])\n",
    "plt.title('val_accuracy базовая сеть', fontsize=12)\n",
    "plt.ylabel('val_accuracy')\n",
    "plt.xlabel('эпохи')\n",
    "plt.grid(True)\n",
    "plt.show()"
   ]
  },
  {
   "cell_type": "code",
   "execution_count": 23,
   "metadata": {
    "colab": {
     "base_uri": "https://localhost:8080/",
     "height": 281
    },
    "id": "EV5r4i2PELAe",
    "outputId": "fb63bf31-5844-4045-fa24-62a4c67d603a"
   },
   "outputs": [
    {
     "data": {
      "image/png": "[encoded data removed]",
      "text/plain": [
       "<Figure size 432x288 with 1 Axes>"
      ]
     },
     "metadata": {
      "needs_background": "light"
     },
     "output_type": "display_data"
    }
   ],
   "source": [
    "N = 1011\n",
    "y_p=model.predict(x_test[N:N+1][:,:,:])\n",
    "y_t = np.argmax(y_test[N:N+1], axis = 1 )\n",
    "y_i = np.argmax(y_p, axis = 1 )\n",
    "plt.imshow(x_test[N][:,:,:])\n",
    "plt.title('это : '+classes[y_t[0]]+'- опознан как : '+classes[y_i[0]])\n",
    "plt.show()"
   ]
  },
  {
   "cell_type": "markdown",
   "metadata": {
    "id": "ddsl7INbL_I7"
   },
   "source": [
    "# Оценим рост точности при увеличении ширины сети (больше ядер)\n",
    "Модель:\n",
    "- количество слоёв - 3\n",
    "- количество нейронов в каждом слое - 64."
   ]
  },
  {
   "cell_type": "code",
   "execution_count": 24,
   "metadata": {
    "colab": {
     "base_uri": "https://localhost:8080/"
    },
    "id": "p-EBTFXrah89",
    "outputId": "9b57e72d-b1fa-4944-d63f-1f414126cfa8"
   },
   "outputs": [
    {
     "name": "stdout",
     "output_type": "stream",
     "text": [
      "Model: \"sequential_1\"\n",
      "_________________________________________________________________\n",
      " Layer (type)                Output Shape              Param #   \n",
      "=================================================================\n",
      " conv2d_3 (Conv2D)           (None, 32, 32, 64)        23296     \n",
      "                                                                 \n",
      " batch_normalization_3 (Batc  (None, 32, 32, 64)       256       \n",
      " hNormalization)                                                 \n",
      "                                                                 \n",
      " max_pooling2d_3 (MaxPooling  (None, 15, 15, 64)       0         \n",
      " 2D)                                                             \n",
      "                                                                 \n",
      " dropout_4 (Dropout)         (None, 15, 15, 64)        0         \n",
      "                                                                 \n",
      " conv2d_4 (Conv2D)           (None, 8, 8, 64)          262208    \n",
      "                                                                 \n",
      " batch_normalization_4 (Batc  (None, 8, 8, 64)         256       \n",
      " hNormalization)                                                 \n",
      "                                                                 \n",
      " max_pooling2d_4 (MaxPooling  (None, 3, 3, 64)         0         \n",
      " 2D)                                                             \n",
      "                                                                 \n",
      " dropout_5 (Dropout)         (None, 3, 3, 64)          0         \n",
      "                                                                 \n",
      " conv2d_5 (Conv2D)           (None, 3, 3, 64)          102464    \n",
      "                                                                 \n",
      " batch_normalization_5 (Batc  (None, 3, 3, 64)         256       \n",
      " hNormalization)                                                 \n",
      "                                                                 \n",
      " max_pooling2d_5 (MaxPooling  (None, 1, 1, 64)         0         \n",
      " 2D)                                                             \n",
      "                                                                 \n",
      " dropout_6 (Dropout)         (None, 1, 1, 64)          0         \n",
      "                                                                 \n",
      " flatten_1 (Flatten)         (None, 64)                0         \n",
      "                                                                 \n",
      " dense_2 (Dense)             (None, 512)               33280     \n",
      "                                                                 \n",
      " dropout_7 (Dropout)         (None, 512)               0         \n",
      "                                                                 \n",
      " dense_3 (Dense)             (None, 10)                5130      \n",
      "                                                                 \n",
      "=================================================================\n",
      "Total params: 427,146\n",
      "Trainable params: 426,762\n",
      "Non-trainable params: 384\n",
      "_________________________________________________________________\n"
     ]
    }
   ],
   "source": [
    "# конфигурирование слоев нейросети\n",
    "model = Sequential([\n",
    "                    \n",
    "    # слои нейросети отвественные за свертку и max-pooling\n",
    "    Conv2D(filters=64,  # количество фильтров - эквивалентно кол-ву нейронов (ширина слоя)!!!\n",
    "        kernel_size=(11, 11),  # кортеж, размер ядра фильтра (размер фильтра по осям, апертура фильтра)\n",
    "        strides=(1, 1),   # шаг применения фильтра к пикселам (пропуск пикселов) - вместо пулинга\n",
    "        input_shape=x_train.shape[1:],\n",
    "        activation='relu',  # активация\n",
    "        padding='same'),\n",
    "    BatchNormalization(),\n",
    "    MaxPooling2D(pool_size=(3, 3), strides=(2, 2)),\n",
    "    Dropout( 0.25),\n",
    "\n",
    "    Conv2D(filters=64,  # количество фильтров - эквивалентно кол-ву нейронов (ширина слоя)!!!\n",
    "        kernel_size=(8, 8),  # кортеж размер ядра фильтра (размер фильтра по осям, апертура фильтра)\n",
    "        strides=(1, 1),   # шаг применения фильтра к пикселам (пропуск пикселов) - вместо пулинга\n",
    "        input_shape=x_train.shape[1:],\n",
    "        activation='relu'  # активация\n",
    "      ),\n",
    "    BatchNormalization(),\n",
    "    MaxPooling2D(pool_size=(3, 3), strides=(2, 2)),\n",
    "    Dropout( 0.25),\n",
    "    \n",
    "    Conv2D(filters=64, kernel_size=(5, 5), strides=(1,1), activation='relu', padding=\"same\"),\n",
    "    BatchNormalization(),\n",
    "    MaxPooling2D(pool_size=(3,3), strides=(2, 2)),\n",
    "    Dropout( 0.25),\n",
    "\n",
    "    # Conv2D(filters=32, kernel_size=(3, 3), strides=(1,1), activation='relu'),\n",
    "    # BatchNormalization(),\n",
    "    # MaxPooling2D(pool_size=(3,3), strides=(2, 2)),\n",
    "    # Dropout(0.25),\n",
    "    \n",
    "    # Из конволютивного слоя нельзя передать информацию в плотный слой без векторизации\n",
    "    # поэтому используем layers.Flatten() чтоб не делать reshape, сглаживание CNN выхода,\n",
    "    # чтобы можно было его присоединить к полносвязногому слою.\n",
    "\n",
    "    # полносвязные слои нейронной сети\n",
    "    Flatten(),\n",
    "    Dense(512, activation='relu'),\n",
    "    Dropout(0.5),\n",
    "    Dense(num_classes, activation='softmax'),\n",
    "])\n",
    "\n",
    "# инициализация RMSprop optimizer\n",
    "#opt = tensorflow.keras.optimizers.RMSprop(lr=0.0001, decay=1e-6)\n",
    "\n",
    "# компиляция модели\n",
    "model.compile(loss='categorical_crossentropy',\n",
    "              optimizer='SGD',\n",
    "              metrics=['accuracy'])\n",
    "\n",
    "model.summary()"
   ]
  },
  {
   "cell_type": "code",
   "execution_count": 25,
   "metadata": {
    "colab": {
     "base_uri": "https://localhost:8080/"
    },
    "id": "2hwJSlN0MtTL",
    "outputId": "cc98e373-ce04-4256-c6d1-496988b79a55"
   },
   "outputs": [
    {
     "name": "stdout",
     "output_type": "stream",
     "text": [
      "Не используется data augmentation\n",
      "Epoch 1/10\n",
      "1563/1563 [==============================] - 402s 257ms/step - loss: 1.8767 - accuracy: 0.3059 - val_loss: 1.9095 - val_accuracy: 0.3332\n",
      "Epoch 2/10\n",
      "1563/1563 [==============================] - 405s 259ms/step - loss: 1.5300 - accuracy: 0.4385 - val_loss: 1.9469 - val_accuracy: 0.3515\n",
      "Epoch 3/10\n",
      "1563/1563 [==============================] - 405s 259ms/step - loss: 1.3948 - accuracy: 0.4938 - val_loss: 1.5223 - val_accuracy: 0.4810\n",
      "Epoch 4/10\n",
      "1563/1563 [==============================] - 405s 259ms/step - loss: 1.3106 - accuracy: 0.5272 - val_loss: 1.5705 - val_accuracy: 0.4363\n",
      "Epoch 5/10\n",
      "1563/1563 [==============================] - 406s 260ms/step - loss: 1.2436 - accuracy: 0.5585 - val_loss: 1.4325 - val_accuracy: 0.4866\n",
      "Epoch 6/10\n",
      "1563/1563 [==============================] - 405s 259ms/step - loss: 1.1888 - accuracy: 0.5756 - val_loss: 1.3620 - val_accuracy: 0.5335\n",
      "Epoch 7/10\n",
      "1563/1563 [==============================] - 407s 261ms/step - loss: 1.1437 - accuracy: 0.5936 - val_loss: 1.3582 - val_accuracy: 0.5354\n",
      "Epoch 8/10\n",
      "1563/1563 [==============================] - 407s 260ms/step - loss: 1.1023 - accuracy: 0.6087 - val_loss: 1.3239 - val_accuracy: 0.5433\n",
      "Epoch 9/10\n",
      "1563/1563 [==============================] - 406s 260ms/step - loss: 1.0676 - accuracy: 0.6221 - val_loss: 1.6265 - val_accuracy: 0.4477\n",
      "Epoch 10/10\n",
      "1563/1563 [==============================] - 408s 261ms/step - loss: 1.0380 - accuracy: 0.6338 - val_loss: 1.4557 - val_accuracy: 0.5417\n"
     ]
    }
   ],
   "source": [
    "  print('Не используется data augmentation')\n",
    "  hist = model.fit(x_train, y_train,\n",
    "            batch_size=batch_size,\n",
    "            epochs=epochs,\n",
    "            validation_data=(x_test, y_test),\n",
    "            shuffle=True)"
   ]
  },
  {
   "cell_type": "code",
   "execution_count": 25,
   "metadata": {
    "id": "mF7C3IwqMyaY"
   },
   "outputs": [],
   "source": []
  },
  {
   "cell_type": "code",
   "execution_count": 26,
   "metadata": {
    "colab": {
     "base_uri": "https://localhost:8080/",
     "height": 185
    },
    "id": "PREthFgxM325",
    "outputId": "515a793d-6220-4703-bb58-2368275972e1"
   },
   "outputs": [
    {
     "name": "stdout",
     "output_type": "stream",
     "text": [
      "1563/1563 [==============================] - 98s 63ms/step - loss: 1.3681 - accuracy: 0.5627\n",
      "313/313 [==============================] - 20s 63ms/step - loss: 1.4557 - accuracy: 0.5417\n",
      "Test loss: 1.4557396173477173\n",
      "Test accuracy: 0.541700005531311\n"
     ]
    },
    {
     "data": {
      "text/html": [
       "\n",
       "  <div id=\"df-86800ddf-67c4-4577-913a-a8bc19de5763\">\n",
       "    <div class=\"colab-df-container\">\n",
       "      <div>\n",
       "<style scoped>\n",
       "    .dataframe tbody tr th:only-of-type {\n",
       "        vertical-align: middle;\n",
       "    }\n",
       "\n",
       "    .dataframe tbody tr th {\n",
       "        vertical-align: top;\n",
       "    }\n",
       "\n",
       "    .dataframe thead th {\n",
       "        text-align: right;\n",
       "    }\n",
       "</style>\n",
       "<table border=\"1\" class=\"dataframe\">\n",
       "  <thead>\n",
       "    <tr style=\"text-align: right;\">\n",
       "      <th></th>\n",
       "      <th>layers</th>\n",
       "      <th>neurons</th>\n",
       "      <th>loss</th>\n",
       "      <th>accuracy</th>\n",
       "      <th>val_loss</th>\n",
       "      <th>val_accuracy</th>\n",
       "    </tr>\n",
       "  </thead>\n",
       "  <tbody>\n",
       "    <tr>\n",
       "      <th>Базовая модель</th>\n",
       "      <td>3</td>\n",
       "      <td>32</td>\n",
       "      <td>1.15717</td>\n",
       "      <td>0.58962</td>\n",
       "      <td>1.20273</td>\n",
       "      <td>0.5808</td>\n",
       "    </tr>\n",
       "    <tr>\n",
       "      <th>Модель увеличение ширины сети</th>\n",
       "      <td>3</td>\n",
       "      <td>64</td>\n",
       "      <td>1.3681</td>\n",
       "      <td>0.5627</td>\n",
       "      <td>1.45574</td>\n",
       "      <td>0.5417</td>\n",
       "    </tr>\n",
       "  </tbody>\n",
       "</table>\n",
       "</div>\n",
       "      <button class=\"colab-df-convert\" onclick=\"convertToInteractive('df-86800ddf-67c4-4577-913a-a8bc19de5763')\"\n",
       "              title=\"Convert this dataframe to an interactive table.\"\n",
       "              style=\"display:none;\">\n",
       "        \n",
       "  <svg xmlns=\"http://www.w3.org/2000/svg\" height=\"24px\"viewBox=\"0 0 24 24\"\n",
       "       width=\"24px\">\n",
       "    <path d=\"M0 0h24v24H0V0z\" fill=\"none\"/>\n",
       "    <path d=\"M18.56 5.44l.94 2.06.94-2.06 2.06-.94-2.06-.94-.94-2.06-.94 2.06-2.06.94zm-11 1L8.5 8.5l.94-2.06 2.06-.94-2.06-.94L8.5 2.5l-.94 2.06-2.06.94zm10 10l.94 2.06.94-2.06 2.06-.94-2.06-.94-.94-2.06-.94 2.06-2.06.94z\"/><path d=\"M17.41 7.96l-1.37-1.37c-.4-.4-.92-.59-1.43-.59-.52 0-1.04.2-1.43.59L10.3 9.45l-7.72 7.72c-.78.78-.78 2.05 0 2.83L4 21.41c.39.39.9.59 1.41.59.51 0 1.02-.2 1.41-.59l7.78-7.78 2.81-2.81c.8-.78.8-2.07 0-2.86zM5.41 20L4 18.59l7.72-7.72 1.47 1.35L5.41 20z\"/>\n",
       "  </svg>\n",
       "      </button>\n",
       "      \n",
       "  <style>\n",
       "    .colab-df-container {\n",
       "      display:flex;\n",
       "      flex-wrap:wrap;\n",
       "      gap: 12px;\n",
       "    }\n",
       "\n",
       "    .colab-df-convert {\n",
       "      background-color: #E8F0FE;\n",
       "      border: none;\n",
       "      border-radius: 50%;\n",
       "      cursor: pointer;\n",
       "      display: none;\n",
       "      fill: #1967D2;\n",
       "      height: 32px;\n",
       "      padding: 0 0 0 0;\n",
       "      width: 32px;\n",
       "    }\n",
       "\n",
       "    .colab-df-convert:hover {\n",
       "      background-color: #E2EBFA;\n",
       "      box-shadow: 0px 1px 2px rgba(60, 64, 67, 0.3), 0px 1px 3px 1px rgba(60, 64, 67, 0.15);\n",
       "      fill: #174EA6;\n",
       "    }\n",
       "\n",
       "    [theme=dark] .colab-df-convert {\n",
       "      background-color: #3B4455;\n",
       "      fill: #D2E3FC;\n",
       "    }\n",
       "\n",
       "    [theme=dark] .colab-df-convert:hover {\n",
       "      background-color: #434B5C;\n",
       "      box-shadow: 0px 1px 3px 1px rgba(0, 0, 0, 0.15);\n",
       "      filter: drop-shadow(0px 1px 2px rgba(0, 0, 0, 0.3));\n",
       "      fill: #FFFFFF;\n",
       "    }\n",
       "  </style>\n",
       "\n",
       "      <script>\n",
       "        const buttonEl =\n",
       "          document.querySelector('#df-86800ddf-67c4-4577-913a-a8bc19de5763 button.colab-df-convert');\n",
       "        buttonEl.style.display =\n",
       "          google.colab.kernel.accessAllowed ? 'block' : 'none';\n",
       "\n",
       "        async function convertToInteractive(key) {\n",
       "          const element = document.querySelector('#df-86800ddf-67c4-4577-913a-a8bc19de5763');\n",
       "          const dataTable =\n",
       "            await google.colab.kernel.invokeFunction('convertToInteractive',\n",
       "                                                     [key], {});\n",
       "          if (!dataTable) return;\n",
       "\n",
       "          const docLinkHtml = 'Like what you see? Visit the ' +\n",
       "            '<a target=\"_blank\" href=https://colab.research.google.com/notebooks/data_table.ipynb>data table notebook</a>'\n",
       "            + ' to learn more about interactive tables.';\n",
       "          element.innerHTML = '';\n",
       "          dataTable['output_type'] = 'display_data';\n",
       "          await google.colab.output.renderOutput(dataTable, element);\n",
       "          const docLink = document.createElement('div');\n",
       "          docLink.innerHTML = docLinkHtml;\n",
       "          element.appendChild(docLink);\n",
       "        }\n",
       "      </script>\n",
       "    </div>\n",
       "  </div>\n",
       "  "
      ],
      "text/plain": [
       "                              layers neurons  ... val_loss val_accuracy\n",
       "Базовая модель                     3      32  ...  1.20273       0.5808\n",
       "Модель увеличение ширины сети      3      64  ...  1.45574       0.5417\n",
       "\n",
       "[2 rows x 6 columns]"
      ]
     },
     "execution_count": 26,
     "metadata": {},
     "output_type": "execute_result"
    }
   ],
   "source": [
    "# model evaluation for training set\n",
    "loss_metric_train = model.evaluate(x_train, y_train)\n",
    "\n",
    "# проверка работы обученной модели\n",
    "loss_metric_test = model.evaluate(x_test, y_test, verbose=1)\n",
    "\n",
    "print('Test loss:', loss_metric_test[0])\n",
    "print('Test accuracy:', loss_metric_test[1])\n",
    "\n",
    "summary_data.loc[\"Модель увеличение ширины сети\", ['layers', 'neurons', 'loss', 'accuracy', 'val_loss', 'val_accuracy']] = [ 3,  64, loss_metric_train[0], loss_metric_train[1], loss_metric_test[0], loss_metric_test[1]]\n",
    "summary_data"
   ]
  },
  {
   "cell_type": "code",
   "execution_count": 28,
   "metadata": {
    "colab": {
     "base_uri": "https://localhost:8080/",
     "height": 368
    },
    "id": "gHknFebJMygG",
    "outputId": "650d0a62-9a97-47ae-af2f-d5704f14f6b9"
   },
   "outputs": [
    {
     "name": "stderr",
     "output_type": "stream",
     "text": [
      "/usr/local/lib/python3.7/dist-packages/matplotlib/backends/backend_agg.py:214: RuntimeWarning: Glyph 9 missing from current font.\n",
      "  font.set_text(s, 0.0, flags=flags)\n",
      "/usr/local/lib/python3.7/dist-packages/matplotlib/backends/backend_agg.py:183: RuntimeWarning: Glyph 9 missing from current font.\n",
      "  font.set_text(s, 0, flags=flags)\n"
     ]
    },
    {
     "data": {
      "image/png": "[encoded data removed]",
      "text/plain": [
       "<Figure size 432x288 with 1 Axes>"
      ]
     },
     "metadata": {
      "needs_background": "light"
     },
     "output_type": "display_data"
    }
   ],
   "source": [
    "plt.plot(np.arange(epochs), hist.history['val_accuracy'])\n",
    "plt.title('val_accuracy модель с увеличеной шириной сети\t', fontsize=12)\n",
    "plt.ylabel('val_accuracy')\n",
    "plt.xlabel('эпохи')\n",
    "plt.grid(True)\n",
    "plt.show()"
   ]
  },
  {
   "cell_type": "markdown",
   "metadata": {
    "id": "FgMhk5cBQCMr"
   },
   "source": [
    "Лучший результат - val_accuracy = 0.5417 это хуже чем у базовой модели (0.5808),\n",
    "что выглядит несколько странно. Ожидалось, что результат улучшится.\n",
    "\n",
    "###### Вывод: \n",
    "С увеличением ширины сети точночть модели уменьшилась, т.е. с увеличением количества числа слоёв точность не всегда растёт."
   ]
  },
  {
   "cell_type": "code",
   "execution_count": 29,
   "metadata": {
    "colab": {
     "base_uri": "https://localhost:8080/",
     "height": 281
    },
    "id": "zxIfRKxrQDaC",
    "outputId": "3a30e160-231d-48ff-e1b8-0f43283321e3"
   },
   "outputs": [
    {
     "data": {
      "image/png": "[encoded data removed]",
      "text/plain": [
       "<Figure size 432x288 with 1 Axes>"
      ]
     },
     "metadata": {
      "needs_background": "light"
     },
     "output_type": "display_data"
    }
   ],
   "source": [
    "N = 111\n",
    "y_p=model.predict(x_test[N:N+1][:,:,:])\n",
    "y_t = np.argmax(y_test[N:N+1], axis = 1 )\n",
    "y_i = np.argmax(y_p, axis = 1 )\n",
    "plt.imshow(x_test[N][:,:,:])\n",
    "plt.title('это : '+classes[y_t[0]]+'- опознан как : '+classes[y_i[0]])\n",
    "plt.show()"
   ]
  },
  {
   "cell_type": "markdown",
   "metadata": {
    "id": "zGAlICcmNTtO"
   },
   "source": [
    "# Оценим рост точности при увеличении глубины сети (больше слоев).\n",
    "Модель:\n",
    "- количество слоёв - 5\n",
    "- количество нейронов в каждом слое - 32."
   ]
  },
  {
   "cell_type": "code",
   "execution_count": 30,
   "metadata": {
    "colab": {
     "base_uri": "https://localhost:8080/"
    },
    "id": "SrKfYZI7NPan",
    "outputId": "ea29d8f4-7d62-4106-a286-76c41393f309"
   },
   "outputs": [
    {
     "name": "stdout",
     "output_type": "stream",
     "text": [
      "Model: \"sequential_2\"\n",
      "_________________________________________________________________\n",
      " Layer (type)                Output Shape              Param #   \n",
      "=================================================================\n",
      " conv2d_6 (Conv2D)           (None, 32, 32, 32)        11648     \n",
      "                                                                 \n",
      " batch_normalization_6 (Batc  (None, 32, 32, 32)       128       \n",
      " hNormalization)                                                 \n",
      "                                                                 \n",
      " max_pooling2d_6 (MaxPooling  (None, 15, 15, 32)       0         \n",
      " 2D)                                                             \n",
      "                                                                 \n",
      " dropout_8 (Dropout)         (None, 15, 15, 32)        0         \n",
      "                                                                 \n",
      " conv2d_7 (Conv2D)           (None, 8, 8, 32)          65568     \n",
      "                                                                 \n",
      " batch_normalization_7 (Batc  (None, 8, 8, 32)         128       \n",
      " hNormalization)                                                 \n",
      "                                                                 \n",
      " max_pooling2d_7 (MaxPooling  (None, 3, 3, 32)         0         \n",
      " 2D)                                                             \n",
      "                                                                 \n",
      " dropout_9 (Dropout)         (None, 3, 3, 32)          0         \n",
      "                                                                 \n",
      " conv2d_8 (Conv2D)           (None, 3, 3, 32)          25632     \n",
      "                                                                 \n",
      " batch_normalization_8 (Batc  (None, 3, 3, 32)         128       \n",
      " hNormalization)                                                 \n",
      "                                                                 \n",
      " conv2d_9 (Conv2D)           (None, 3, 3, 32)          9248      \n",
      "                                                                 \n",
      " batch_normalization_9 (Batc  (None, 3, 3, 32)         128       \n",
      " hNormalization)                                                 \n",
      "                                                                 \n",
      " conv2d_10 (Conv2D)          (None, 3, 3, 64)          2112      \n",
      "                                                                 \n",
      " batch_normalization_10 (Bat  (None, 3, 3, 64)         256       \n",
      " chNormalization)                                                \n",
      "                                                                 \n",
      " max_pooling2d_8 (MaxPooling  (None, 1, 1, 64)         0         \n",
      " 2D)                                                             \n",
      "                                                                 \n",
      " dropout_10 (Dropout)        (None, 1, 1, 64)          0         \n",
      "                                                                 \n",
      " flatten_2 (Flatten)         (None, 64)                0         \n",
      "                                                                 \n",
      " dense_4 (Dense)             (None, 512)               33280     \n",
      "                                                                 \n",
      " dropout_11 (Dropout)        (None, 512)               0         \n",
      "                                                                 \n",
      " dense_5 (Dense)             (None, 10)                5130      \n",
      "                                                                 \n",
      "=================================================================\n",
      "Total params: 153,386\n",
      "Trainable params: 153,002\n",
      "Non-trainable params: 384\n",
      "_________________________________________________________________\n"
     ]
    }
   ],
   "source": [
    "# конфигурирование слоев нейросети\n",
    "model = Sequential([\n",
    "                    \n",
    "    # слои нейросети отвественные за свертку и max-pooling\n",
    "    Conv2D(filters=32,  # количество фильтров - эквивалентно кол-ву нейронов (ширина слоя)!!!\n",
    "        kernel_size=(11, 11),  # кортеж, размер ядра фильтра (размер фильтра по осям, апертура фильтра)\n",
    "        strides=(1, 1),   # шаг применения фильтра к пикселам (пропуск пикселов) - вместо пулинга\n",
    "        input_shape=x_train.shape[1:],\n",
    "        activation='relu',  # активация\n",
    "        padding='same'),\n",
    "    BatchNormalization(),\n",
    "    MaxPooling2D(pool_size=(3, 3), strides=(2, 2)),\n",
    "    Dropout( 0.25),\n",
    "\n",
    "    Conv2D(filters=32,  # количество фильтров - эквивалентно кол-ву нейронов (ширина слоя)!!!\n",
    "        kernel_size=(8, 8),  # кортеж размер ядра фильтра (размер фильтра по осям, апертура фильтра)\n",
    "        strides=(1, 1),   # шаг применения фильтра к пикселам (пропуск пикселов) - вместо пулинга\n",
    "        input_shape=x_train.shape[1:],\n",
    "        activation='relu'  # активация\n",
    "      ),\n",
    "    BatchNormalization(),\n",
    "    MaxPooling2D(pool_size=(3, 3), strides=(2, 2)),\n",
    "    Dropout( 0.25),\n",
    "    \n",
    "    Conv2D(filters=32, kernel_size=(5, 5), strides=(1,1), activation='relu', padding=\"same\"),\n",
    "    BatchNormalization(),\n",
    "    # MaxPooling2D(pool_size=(3,3), strides=(2, 2)),\n",
    "    # Dropout( 0.25),\n",
    "\n",
    "    # Добавляем 2 слоя\n",
    "    Conv2D(filters=32, kernel_size=(3, 3), strides=(1,1), activation='relu', padding=\"same\"),\n",
    "    BatchNormalization(),\n",
    "    # MaxPooling2D(pool_size=(3,3), strides=(2, 2)),\n",
    "    # Dropout( 0.25),\n",
    "\n",
    "    Conv2D(filters=64, kernel_size=(1, 1), strides=(1,1), activation='relu', padding=\"same\"),\n",
    "    BatchNormalization(),\n",
    "    MaxPooling2D(pool_size=(3,3), strides=(2, 2)),\n",
    "    Dropout(0.25),\n",
    "\n",
    "    # Из конволютивного слоя нельзя передать информацию в плотный слой без векторизации\n",
    "    # поэтому используем layers.Flatten() чтоб не делать reshape, сглаживание CNN выхода,\n",
    "    # чтобы можно было его присоединить к полносвязногому слою.\n",
    "\n",
    "    # полносвязные слои нейронной сети\n",
    "    Flatten(),\n",
    "    Dense(512, activation='relu'),\n",
    "    Dropout(0.5),\n",
    "    Dense(num_classes, activation='softmax'),\n",
    "])\n",
    "\n",
    "# инициализация RMSprop optimizer\n",
    "#opt = tensorflow.keras.optimizers.RMSprop(lr=0.0001, decay=1e-6)\n",
    "\n",
    "# компиляция модели\n",
    "model.compile(loss='categorical_crossentropy',\n",
    "              optimizer='SGD',\n",
    "              metrics=['accuracy'])\n",
    "\n",
    "model.summary()"
   ]
  },
  {
   "cell_type": "code",
   "execution_count": 31,
   "metadata": {
    "colab": {
     "base_uri": "https://localhost:8080/"
    },
    "id": "l1JN2FlxpojR",
    "outputId": "824b5716-5fc1-4e0e-f7af-649064a28376"
   },
   "outputs": [
    {
     "name": "stdout",
     "output_type": "stream",
     "text": [
      "Не используется data augmentation\n",
      "Epoch 1/10\n",
      "1563/1563 [==============================] - 242s 154ms/step - loss: 1.9862 - accuracy: 0.2631 - val_loss: 1.9545 - val_accuracy: 0.3156\n",
      "Epoch 2/10\n",
      "1563/1563 [==============================] - 248s 158ms/step - loss: 1.6577 - accuracy: 0.3829 - val_loss: 1.5395 - val_accuracy: 0.4354\n",
      "Epoch 3/10\n",
      "1563/1563 [==============================] - 247s 158ms/step - loss: 1.5312 - accuracy: 0.4394 - val_loss: 1.6506 - val_accuracy: 0.4072\n",
      "Epoch 4/10\n",
      "1563/1563 [==============================] - 247s 158ms/step - loss: 1.4529 - accuracy: 0.4726 - val_loss: 1.8659 - val_accuracy: 0.3800\n",
      "Epoch 5/10\n",
      "1563/1563 [==============================] - 247s 158ms/step - loss: 1.3889 - accuracy: 0.4966 - val_loss: 2.3169 - val_accuracy: 0.3197\n",
      "Epoch 6/10\n",
      "1563/1563 [==============================] - 247s 158ms/step - loss: 1.3413 - accuracy: 0.5192 - val_loss: 1.4506 - val_accuracy: 0.4896\n",
      "Epoch 7/10\n",
      "1563/1563 [==============================] - 247s 158ms/step - loss: 1.2934 - accuracy: 0.5388 - val_loss: 1.7533 - val_accuracy: 0.3892\n",
      "Epoch 8/10\n",
      "1563/1563 [==============================] - 248s 159ms/step - loss: 1.2612 - accuracy: 0.5511 - val_loss: 1.2836 - val_accuracy: 0.5596\n",
      "Epoch 9/10\n",
      "1563/1563 [==============================] - 249s 159ms/step - loss: 1.2308 - accuracy: 0.5645 - val_loss: 1.3995 - val_accuracy: 0.5160\n",
      "Epoch 10/10\n",
      "1563/1563 [==============================] - 248s 159ms/step - loss: 1.2037 - accuracy: 0.5755 - val_loss: 1.5493 - val_accuracy: 0.4788\n"
     ]
    }
   ],
   "source": [
    "  print('Не используется data augmentation')\n",
    "  hist = model.fit(x_train, y_train,\n",
    "            batch_size=batch_size,\n",
    "            epochs=epochs,\n",
    "            validation_data=(x_test, y_test),\n",
    "            shuffle=True)"
   ]
  },
  {
   "cell_type": "code",
   "execution_count": 32,
   "metadata": {
    "colab": {
     "base_uri": "https://localhost:8080/",
     "height": 216
    },
    "id": "LFUwC-NwNPhC",
    "outputId": "37ee98f9-38fe-4985-d44d-2e8c1f37d0df"
   },
   "outputs": [
    {
     "name": "stdout",
     "output_type": "stream",
     "text": [
      "1563/1563 [==============================] - 57s 36ms/step - loss: 1.4882 - accuracy: 0.4906\n",
      "313/313 [==============================] - 11s 36ms/step - loss: 1.5493 - accuracy: 0.4788\n",
      "Test loss: 1.5493144989013672\n",
      "Test accuracy: 0.4787999987602234\n"
     ]
    },
    {
     "data": {
      "text/html": [
       "\n",
       "  <div id=\"df-a6f865af-52fa-4faf-bbc2-d4bc467741f3\">\n",
       "    <div class=\"colab-df-container\">\n",
       "      <div>\n",
       "<style scoped>\n",
       "    .dataframe tbody tr th:only-of-type {\n",
       "        vertical-align: middle;\n",
       "    }\n",
       "\n",
       "    .dataframe tbody tr th {\n",
       "        vertical-align: top;\n",
       "    }\n",
       "\n",
       "    .dataframe thead th {\n",
       "        text-align: right;\n",
       "    }\n",
       "</style>\n",
       "<table border=\"1\" class=\"dataframe\">\n",
       "  <thead>\n",
       "    <tr style=\"text-align: right;\">\n",
       "      <th></th>\n",
       "      <th>layers</th>\n",
       "      <th>neurons</th>\n",
       "      <th>loss</th>\n",
       "      <th>accuracy</th>\n",
       "      <th>val_loss</th>\n",
       "      <th>val_accuracy</th>\n",
       "    </tr>\n",
       "  </thead>\n",
       "  <tbody>\n",
       "    <tr>\n",
       "      <th>Базовая модель</th>\n",
       "      <td>3</td>\n",
       "      <td>32</td>\n",
       "      <td>1.15717</td>\n",
       "      <td>0.58962</td>\n",
       "      <td>1.20273</td>\n",
       "      <td>0.5808</td>\n",
       "    </tr>\n",
       "    <tr>\n",
       "      <th>Модель увеличение ширины сети</th>\n",
       "      <td>3</td>\n",
       "      <td>64</td>\n",
       "      <td>1.3681</td>\n",
       "      <td>0.5627</td>\n",
       "      <td>1.45574</td>\n",
       "      <td>0.5417</td>\n",
       "    </tr>\n",
       "    <tr>\n",
       "      <th>Модель с увеличенной глубиной сети</th>\n",
       "      <td>5</td>\n",
       "      <td>32</td>\n",
       "      <td>1.48819</td>\n",
       "      <td>0.49062</td>\n",
       "      <td>1.54931</td>\n",
       "      <td>0.4788</td>\n",
       "    </tr>\n",
       "  </tbody>\n",
       "</table>\n",
       "</div>\n",
       "      <button class=\"colab-df-convert\" onclick=\"convertToInteractive('df-a6f865af-52fa-4faf-bbc2-d4bc467741f3')\"\n",
       "              title=\"Convert this dataframe to an interactive table.\"\n",
       "              style=\"display:none;\">\n",
       "        \n",
       "  <svg xmlns=\"http://www.w3.org/2000/svg\" height=\"24px\"viewBox=\"0 0 24 24\"\n",
       "       width=\"24px\">\n",
       "    <path d=\"M0 0h24v24H0V0z\" fill=\"none\"/>\n",
       "    <path d=\"M18.56 5.44l.94 2.06.94-2.06 2.06-.94-2.06-.94-.94-2.06-.94 2.06-2.06.94zm-11 1L8.5 8.5l.94-2.06 2.06-.94-2.06-.94L8.5 2.5l-.94 2.06-2.06.94zm10 10l.94 2.06.94-2.06 2.06-.94-2.06-.94-.94-2.06-.94 2.06-2.06.94z\"/><path d=\"M17.41 7.96l-1.37-1.37c-.4-.4-.92-.59-1.43-.59-.52 0-1.04.2-1.43.59L10.3 9.45l-7.72 7.72c-.78.78-.78 2.05 0 2.83L4 21.41c.39.39.9.59 1.41.59.51 0 1.02-.2 1.41-.59l7.78-7.78 2.81-2.81c.8-.78.8-2.07 0-2.86zM5.41 20L4 18.59l7.72-7.72 1.47 1.35L5.41 20z\"/>\n",
       "  </svg>\n",
       "      </button>\n",
       "      \n",
       "  <style>\n",
       "    .colab-df-container {\n",
       "      display:flex;\n",
       "      flex-wrap:wrap;\n",
       "      gap: 12px;\n",
       "    }\n",
       "\n",
       "    .colab-df-convert {\n",
       "      background-color: #E8F0FE;\n",
       "      border: none;\n",
       "      border-radius: 50%;\n",
       "      cursor: pointer;\n",
       "      display: none;\n",
       "      fill: #1967D2;\n",
       "      height: 32px;\n",
       "      padding: 0 0 0 0;\n",
       "      width: 32px;\n",
       "    }\n",
       "\n",
       "    .colab-df-convert:hover {\n",
       "      background-color: #E2EBFA;\n",
       "      box-shadow: 0px 1px 2px rgba(60, 64, 67, 0.3), 0px 1px 3px 1px rgba(60, 64, 67, 0.15);\n",
       "      fill: #174EA6;\n",
       "    }\n",
       "\n",
       "    [theme=dark] .colab-df-convert {\n",
       "      background-color: #3B4455;\n",
       "      fill: #D2E3FC;\n",
       "    }\n",
       "\n",
       "    [theme=dark] .colab-df-convert:hover {\n",
       "      background-color: #434B5C;\n",
       "      box-shadow: 0px 1px 3px 1px rgba(0, 0, 0, 0.15);\n",
       "      filter: drop-shadow(0px 1px 2px rgba(0, 0, 0, 0.3));\n",
       "      fill: #FFFFFF;\n",
       "    }\n",
       "  </style>\n",
       "\n",
       "      <script>\n",
       "        const buttonEl =\n",
       "          document.querySelector('#df-a6f865af-52fa-4faf-bbc2-d4bc467741f3 button.colab-df-convert');\n",
       "        buttonEl.style.display =\n",
       "          google.colab.kernel.accessAllowed ? 'block' : 'none';\n",
       "\n",
       "        async function convertToInteractive(key) {\n",
       "          const element = document.querySelector('#df-a6f865af-52fa-4faf-bbc2-d4bc467741f3');\n",
       "          const dataTable =\n",
       "            await google.colab.kernel.invokeFunction('convertToInteractive',\n",
       "                                                     [key], {});\n",
       "          if (!dataTable) return;\n",
       "\n",
       "          const docLinkHtml = 'Like what you see? Visit the ' +\n",
       "            '<a target=\"_blank\" href=https://colab.research.google.com/notebooks/data_table.ipynb>data table notebook</a>'\n",
       "            + ' to learn more about interactive tables.';\n",
       "          element.innerHTML = '';\n",
       "          dataTable['output_type'] = 'display_data';\n",
       "          await google.colab.output.renderOutput(dataTable, element);\n",
       "          const docLink = document.createElement('div');\n",
       "          docLink.innerHTML = docLinkHtml;\n",
       "          element.appendChild(docLink);\n",
       "        }\n",
       "      </script>\n",
       "    </div>\n",
       "  </div>\n",
       "  "
      ],
      "text/plain": [
       "                                   layers neurons  ... val_loss val_accuracy\n",
       "Базовая модель                          3      32  ...  1.20273       0.5808\n",
       "Модель увеличение ширины сети           3      64  ...  1.45574       0.5417\n",
       "Модель с увеличенной глубиной сети      5      32  ...  1.54931       0.4788\n",
       "\n",
       "[3 rows x 6 columns]"
      ]
     },
     "execution_count": 32,
     "metadata": {},
     "output_type": "execute_result"
    }
   ],
   "source": [
    "# model evaluation for training set\n",
    "loss_metric_train = model.evaluate(x_train, y_train)\n",
    "\n",
    "# проверка работы обученной модели\n",
    "loss_metric_test = model.evaluate(x_test, y_test, verbose=1)\n",
    "\n",
    "print('Test loss:', loss_metric_test[0])\n",
    "print('Test accuracy:', loss_metric_test[1])\n",
    "\n",
    "summary_data.loc[\"Модель с увеличенной глубиной сети\", ['layers', 'neurons', 'loss', 'accuracy', 'val_loss', 'val_accuracy']] = [ 5,  32, loss_metric_train[0], loss_metric_train[1], loss_metric_test[0], loss_metric_test[1]]\n",
    "summary_data"
   ]
  },
  {
   "cell_type": "code",
   "execution_count": 34,
   "metadata": {
    "colab": {
     "base_uri": "https://localhost:8080/",
     "height": 295
    },
    "id": "kyQRNDVlNPkx",
    "outputId": "6e7fbe29-a775-4da2-9281-3e1cd36da246"
   },
   "outputs": [
    {
     "data": {
      "image/png": "[encoded data removed]",
      "text/plain": [
       "<Figure size 432x288 with 1 Axes>"
      ]
     },
     "metadata": {
      "needs_background": "light"
     },
     "output_type": "display_data"
    }
   ],
   "source": [
    "plt.plot(np.arange(epochs), hist.history['val_accuracy'])\n",
    "plt.title('val_accuracy модель с увеличенной глубиной сети', fontsize=12)\n",
    "plt.ylabel('val_accuracy')\n",
    "plt.xlabel('эпохи')\n",
    "plt.grid(True)\n",
    "plt.show()"
   ]
  },
  {
   "cell_type": "markdown",
   "metadata": {
    "id": "P7_3eTWTQP6y"
   },
   "source": [
    "Лучший результат - val_accuracy = 0.4788 это хуже чем у базовой модели (0.5808)и хуже чем у модели с большой ширингой слоя (0.5417).\n",
    "\n",
    "###### Вывод: \n",
    "С увеличением глубины сети на данном датасете точность модели ухудшилась.\n"
   ]
  },
  {
   "cell_type": "code",
   "execution_count": 35,
   "metadata": {
    "colab": {
     "base_uri": "https://localhost:8080/",
     "height": 281
    },
    "id": "F6aQIkraNPoE",
    "outputId": "5ea22062-9646-4127-ef11-188de4ac9048"
   },
   "outputs": [
    {
     "data": {
      "image/png": "[encoded data removed]",
      "text/plain": [
       "<Figure size 432x288 with 1 Axes>"
      ]
     },
     "metadata": {
      "needs_background": "light"
     },
     "output_type": "display_data"
    }
   ],
   "source": [
    "N = 111\n",
    "y_p=model.predict(x_test[N:N+1][:,:,:])\n",
    "y_t = np.argmax(y_test[N:N+1], axis = 1 )\n",
    "y_i = np.argmax(y_p, axis = 1 )\n",
    "plt.imshow(x_test[N][:,:,:])\n",
    "plt.title('это : '+classes[y_t[0]]+'- опознан как : '+classes[y_i[0]])\n",
    "plt.show()"
   ]
  },
  {
   "cell_type": "markdown",
   "metadata": {
    "id": "glCblXEF93xB"
   },
   "source": [
    "# *(опционально) сравнить с точностью полносвязной сети для этой выборки"
   ]
  },
  {
   "cell_type": "code",
   "execution_count": 36,
   "metadata": {
    "id": "E6PeVL6cNPrO"
   },
   "outputs": [],
   "source": [
    "# конфигурирование слоев нейросети\n",
    "model = Sequential([\n",
    "    Flatten(),\n",
    "    Dense(512, activation='relu'),\n",
    "    Dropout(0.5),\n",
    "    Dense(num_classes, activation='softmax')\n",
    "])\n",
    "\n",
    "# инициализация RMSprop optimizer\n",
    "#opt = tensorflow.keras.optimizers.RMSprop(lr=0.0001, decay=1e-6)\n",
    "\n",
    "# компиляция модели\n",
    "model.compile(loss='categorical_crossentropy',\n",
    "              optimizer='SGD',\n",
    "              metrics=['accuracy'])\n",
    "\n",
    "# model.summary()"
   ]
  },
  {
   "cell_type": "code",
   "execution_count": 37,
   "metadata": {
    "colab": {
     "base_uri": "https://localhost:8080/"
    },
    "id": "dvBEOec9MynL",
    "outputId": "b5b43c5f-862e-4811-9dda-06082e95dd66"
   },
   "outputs": [
    {
     "name": "stdout",
     "output_type": "stream",
     "text": [
      "Epoch 1/10\n",
      "1563/1563 [==============================] - 13s 8ms/step - loss: 1.9521 - accuracy: 0.2968 - val_loss: 1.7870 - val_accuracy: 0.3719\n",
      "Epoch 2/10\n",
      "1563/1563 [==============================] - 12s 8ms/step - loss: 1.7901 - accuracy: 0.3639 - val_loss: 1.7203 - val_accuracy: 0.3754\n",
      "Epoch 3/10\n",
      "1563/1563 [==============================] - 12s 8ms/step - loss: 1.7342 - accuracy: 0.3842 - val_loss: 1.6539 - val_accuracy: 0.4256\n",
      "Epoch 4/10\n",
      "1563/1563 [==============================] - 12s 8ms/step - loss: 1.6890 - accuracy: 0.4018 - val_loss: 1.6128 - val_accuracy: 0.4335\n",
      "Epoch 5/10\n",
      "1563/1563 [==============================] - 12s 8ms/step - loss: 1.6566 - accuracy: 0.4156 - val_loss: 1.5863 - val_accuracy: 0.4415\n",
      "Epoch 6/10\n",
      "1563/1563 [==============================] - 12s 8ms/step - loss: 1.6323 - accuracy: 0.4254 - val_loss: 1.5625 - val_accuracy: 0.4568\n",
      "Epoch 7/10\n",
      "1563/1563 [==============================] - 12s 8ms/step - loss: 1.6105 - accuracy: 0.4332 - val_loss: 1.5356 - val_accuracy: 0.4628\n",
      "Epoch 8/10\n",
      "1563/1563 [==============================] - 12s 8ms/step - loss: 1.5885 - accuracy: 0.4433 - val_loss: 1.5570 - val_accuracy: 0.4474\n",
      "Epoch 9/10\n",
      "1563/1563 [==============================] - 12s 8ms/step - loss: 1.5712 - accuracy: 0.4482 - val_loss: 1.4979 - val_accuracy: 0.4709\n",
      "Epoch 10/10\n",
      "1563/1563 [==============================] - 12s 8ms/step - loss: 1.5576 - accuracy: 0.4526 - val_loss: 1.5018 - val_accuracy: 0.4678\n"
     ]
    }
   ],
   "source": [
    "  hist = model.fit(x_train, y_train,\n",
    "            batch_size=batch_size,\n",
    "            epochs=epochs,\n",
    "            validation_data=(x_test, y_test),\n",
    "            shuffle=True)"
   ]
  },
  {
   "cell_type": "code",
   "execution_count": 38,
   "metadata": {
    "colab": {
     "base_uri": "https://localhost:8080/"
    },
    "id": "0YYvRnlyMywW",
    "outputId": "2a5480f2-6cde-4160-af29-7e127bbedabc"
   },
   "outputs": [
    {
     "name": "stdout",
     "output_type": "stream",
     "text": [
      "1563/1563 [==============================] - 6s 4ms/step - loss: 1.4673 - accuracy: 0.4867\n",
      "313/313 [==============================] - 1s 4ms/step - loss: 1.5018 - accuracy: 0.4678\n",
      "Test loss: 1.5018432140350342\n",
      "Test accuracy: 0.46779999136924744\n"
     ]
    }
   ],
   "source": [
    "# model evaluation for training set\n",
    "loss_metric_train = model.evaluate(x_train, y_train)\n",
    "\n",
    "# проверка работы обученной модели\n",
    "loss_metric_test = model.evaluate(x_test, y_test, verbose=1)\n",
    "\n",
    "print('Test loss:', loss_metric_test[0])\n",
    "print('Test accuracy:', loss_metric_test[1])\n",
    "\n",
    "summary_data.loc[\"Полносвязная сеть\", ['layers', 'neurons', 'loss', 'accuracy', 'val_loss', 'val_accuracy']] = [ 5,  32, loss_metric_train[0], loss_metric_train[1], loss_metric_test[0], loss_metric_test[1]]"
   ]
  },
  {
   "cell_type": "code",
   "execution_count": 39,
   "metadata": {
    "colab": {
     "base_uri": "https://localhost:8080/",
     "height": 175
    },
    "id": "--8LU7Rvag93",
    "outputId": "e0d0d998-210d-467d-ec14-3fc9d2666cec"
   },
   "outputs": [
    {
     "data": {
      "text/html": [
       "\n",
       "  <div id=\"df-6bd4d2eb-8e2a-498c-a402-5928fb21f752\">\n",
       "    <div class=\"colab-df-container\">\n",
       "      <div>\n",
       "<style scoped>\n",
       "    .dataframe tbody tr th:only-of-type {\n",
       "        vertical-align: middle;\n",
       "    }\n",
       "\n",
       "    .dataframe tbody tr th {\n",
       "        vertical-align: top;\n",
       "    }\n",
       "\n",
       "    .dataframe thead th {\n",
       "        text-align: right;\n",
       "    }\n",
       "</style>\n",
       "<table border=\"1\" class=\"dataframe\">\n",
       "  <thead>\n",
       "    <tr style=\"text-align: right;\">\n",
       "      <th></th>\n",
       "      <th>layers</th>\n",
       "      <th>neurons</th>\n",
       "      <th>loss</th>\n",
       "      <th>accuracy</th>\n",
       "      <th>val_loss</th>\n",
       "      <th>val_accuracy</th>\n",
       "    </tr>\n",
       "  </thead>\n",
       "  <tbody>\n",
       "    <tr>\n",
       "      <th>Базовая модель</th>\n",
       "      <td>3</td>\n",
       "      <td>32</td>\n",
       "      <td>1.15717</td>\n",
       "      <td>0.58962</td>\n",
       "      <td>1.20273</td>\n",
       "      <td>0.5808</td>\n",
       "    </tr>\n",
       "    <tr>\n",
       "      <th>Модель увеличение ширины сети</th>\n",
       "      <td>3</td>\n",
       "      <td>64</td>\n",
       "      <td>1.3681</td>\n",
       "      <td>0.5627</td>\n",
       "      <td>1.45574</td>\n",
       "      <td>0.5417</td>\n",
       "    </tr>\n",
       "    <tr>\n",
       "      <th>Модель с увеличенной глубиной сети</th>\n",
       "      <td>5</td>\n",
       "      <td>32</td>\n",
       "      <td>1.48819</td>\n",
       "      <td>0.49062</td>\n",
       "      <td>1.54931</td>\n",
       "      <td>0.4788</td>\n",
       "    </tr>\n",
       "    <tr>\n",
       "      <th>Полносвязная сеть</th>\n",
       "      <td>5</td>\n",
       "      <td>32</td>\n",
       "      <td>1.46735</td>\n",
       "      <td>0.48672</td>\n",
       "      <td>1.50184</td>\n",
       "      <td>0.4678</td>\n",
       "    </tr>\n",
       "  </tbody>\n",
       "</table>\n",
       "</div>\n",
       "      <button class=\"colab-df-convert\" onclick=\"convertToInteractive('df-6bd4d2eb-8e2a-498c-a402-5928fb21f752')\"\n",
       "              title=\"Convert this dataframe to an interactive table.\"\n",
       "              style=\"display:none;\">\n",
       "        \n",
       "  <svg xmlns=\"http://www.w3.org/2000/svg\" height=\"24px\"viewBox=\"0 0 24 24\"\n",
       "       width=\"24px\">\n",
       "    <path d=\"M0 0h24v24H0V0z\" fill=\"none\"/>\n",
       "    <path d=\"M18.56 5.44l.94 2.06.94-2.06 2.06-.94-2.06-.94-.94-2.06-.94 2.06-2.06.94zm-11 1L8.5 8.5l.94-2.06 2.06-.94-2.06-.94L8.5 2.5l-.94 2.06-2.06.94zm10 10l.94 2.06.94-2.06 2.06-.94-2.06-.94-.94-2.06-.94 2.06-2.06.94z\"/><path d=\"M17.41 7.96l-1.37-1.37c-.4-.4-.92-.59-1.43-.59-.52 0-1.04.2-1.43.59L10.3 9.45l-7.72 7.72c-.78.78-.78 2.05 0 2.83L4 21.41c.39.39.9.59 1.41.59.51 0 1.02-.2 1.41-.59l7.78-7.78 2.81-2.81c.8-.78.8-2.07 0-2.86zM5.41 20L4 18.59l7.72-7.72 1.47 1.35L5.41 20z\"/>\n",
       "  </svg>\n",
       "      </button>\n",
       "      \n",
       "  <style>\n",
       "    .colab-df-container {\n",
       "      display:flex;\n",
       "      flex-wrap:wrap;\n",
       "      gap: 12px;\n",
       "    }\n",
       "\n",
       "    .colab-df-convert {\n",
       "      background-color: #E8F0FE;\n",
       "      border: none;\n",
       "      border-radius: 50%;\n",
       "      cursor: pointer;\n",
       "      display: none;\n",
       "      fill: #1967D2;\n",
       "      height: 32px;\n",
       "      padding: 0 0 0 0;\n",
       "      width: 32px;\n",
       "    }\n",
       "\n",
       "    .colab-df-convert:hover {\n",
       "      background-color: #E2EBFA;\n",
       "      box-shadow: 0px 1px 2px rgba(60, 64, 67, 0.3), 0px 1px 3px 1px rgba(60, 64, 67, 0.15);\n",
       "      fill: #174EA6;\n",
       "    }\n",
       "\n",
       "    [theme=dark] .colab-df-convert {\n",
       "      background-color: #3B4455;\n",
       "      fill: #D2E3FC;\n",
       "    }\n",
       "\n",
       "    [theme=dark] .colab-df-convert:hover {\n",
       "      background-color: #434B5C;\n",
       "      box-shadow: 0px 1px 3px 1px rgba(0, 0, 0, 0.15);\n",
       "      filter: drop-shadow(0px 1px 2px rgba(0, 0, 0, 0.3));\n",
       "      fill: #FFFFFF;\n",
       "    }\n",
       "  </style>\n",
       "\n",
       "      <script>\n",
       "        const buttonEl =\n",
       "          document.querySelector('#df-6bd4d2eb-8e2a-498c-a402-5928fb21f752 button.colab-df-convert');\n",
       "        buttonEl.style.display =\n",
       "          google.colab.kernel.accessAllowed ? 'block' : 'none';\n",
       "\n",
       "        async function convertToInteractive(key) {\n",
       "          const element = document.querySelector('#df-6bd4d2eb-8e2a-498c-a402-5928fb21f752');\n",
       "          const dataTable =\n",
       "            await google.colab.kernel.invokeFunction('convertToInteractive',\n",
       "                                                     [key], {});\n",
       "          if (!dataTable) return;\n",
       "\n",
       "          const docLinkHtml = 'Like what you see? Visit the ' +\n",
       "            '<a target=\"_blank\" href=https://colab.research.google.com/notebooks/data_table.ipynb>data table notebook</a>'\n",
       "            + ' to learn more about interactive tables.';\n",
       "          element.innerHTML = '';\n",
       "          dataTable['output_type'] = 'display_data';\n",
       "          await google.colab.output.renderOutput(dataTable, element);\n",
       "          const docLink = document.createElement('div');\n",
       "          docLink.innerHTML = docLinkHtml;\n",
       "          element.appendChild(docLink);\n",
       "        }\n",
       "      </script>\n",
       "    </div>\n",
       "  </div>\n",
       "  "
      ],
      "text/plain": [
       "                                   layers neurons  ... val_loss val_accuracy\n",
       "Базовая модель                          3      32  ...  1.20273       0.5808\n",
       "Модель увеличение ширины сети           3      64  ...  1.45574       0.5417\n",
       "Модель с увеличенной глубиной сети      5      32  ...  1.54931       0.4788\n",
       "Полносвязная сеть                       5      32  ...  1.50184       0.4678\n",
       "\n",
       "[4 rows x 6 columns]"
      ]
     },
     "execution_count": 39,
     "metadata": {},
     "output_type": "execute_result"
    }
   ],
   "source": [
    "summary_data"
   ]
  },
  {
   "cell_type": "code",
   "execution_count": 40,
   "metadata": {
    "colab": {
     "base_uri": "https://localhost:8080/",
     "height": 295
    },
    "id": "tjItOiG18i8M",
    "outputId": "f20e5b99-fddd-492d-d3b3-4e4dddd2a7ac"
   },
   "outputs": [
    {
     "data": {
      "image/png": "[encoded data removed]",
      "text/plain": [
       "<Figure size 432x288 with 1 Axes>"
      ]
     },
     "metadata": {
      "needs_background": "light"
     },
     "output_type": "display_data"
    }
   ],
   "source": [
    "plt.plot(np.arange(epochs), hist.history['val_accuracy'])\n",
    "plt.title('val_accuracy полносвязная сеть', fontsize=12)\n",
    "plt.ylabel('val_accuracy')\n",
    "plt.xlabel('эпохи')\n",
    "plt.grid(True)\n",
    "plt.show()"
   ]
  },
  {
   "cell_type": "markdown",
   "metadata": {
    "id": "GrfEM_7L-wvq"
   },
   "source": [
    "Лучший результат - val_accuracy = 0.4678 это хуже чем у остальных моделей.\n",
    "\n",
    "__Вывод__: \n",
    "Полносвязная сеть показала результат хуже всех моделей. \n",
    "\n",
    "Таким оброзом наибольший эффект для данной выборки играет увеличение количества нейронов."
   ]
  },
  {
   "cell_type": "code",
   "execution_count": 41,
   "metadata": {
    "colab": {
     "base_uri": "https://localhost:8080/",
     "height": 281
    },
    "id": "Jpp7om52-oiI",
    "outputId": "191f0ac0-b18b-470d-9d2a-3ae5df0be8b9"
   },
   "outputs": [
    {
     "data": {
      "image/png": "[encoded data removed]",
      "text/plain": [
       "<Figure size 432x288 with 1 Axes>"
      ]
     },
     "metadata": {
      "needs_background": "light"
     },
     "output_type": "display_data"
    }
   ],
   "source": [
    "N = 1111\n",
    "y_p=model.predict(x_test[N:N+1][:,:,:])\n",
    "y_t = np.argmax(y_test[N:N+1], axis = 1 )\n",
    "y_i = np.argmax(y_p, axis = 1 )\n",
    "plt.imshow(x_test[N][:,:,:])\n",
    "plt.title('это : '+classes[y_t[0]]+'- опознан как : '+classes[y_i[0]])\n",
    "plt.show()"
   ]
  },
  {
   "cell_type": "code",
   "execution_count": 41,
   "metadata": {
    "id": "tTmOu4lm_kSC"
   },
   "outputs": [],
   "source": []
  }
 ],
 "metadata": {
  "colab": {
   "collapsed_sections": [],
   "name": "lesson_4_nn_hw_colab_2022-01-14-III.ipynb",
   "provenance": []
  },
  "kernelspec": {
   "display_name": "Python 3.8 (causalml)",
   "language": "python",
   "name": "causalml-py38"
  },
  "language_info": {
   "codemirror_mode": {
    "name": "ipython",
    "version": 3
   },
   "file_extension": ".py",
   "mimetype": "text/x-python",
   "name": "python",
   "nbconvert_exporter": "python",
   "pygments_lexer": "ipython3",
   "version": "3.8.5"
  }
 },
 "nbformat": 4,
 "nbformat_minor": 1
}
